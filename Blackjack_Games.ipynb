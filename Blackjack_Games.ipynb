{
  "nbformat": 4,
  "nbformat_minor": 0,
  "metadata": {
    "colab": {
      "name": "Blackjack Games",
      "provenance": [],
      "collapsed_sections": []
    },
    "kernelspec": {
      "name": "python3",
      "display_name": "Python 3"
    },
    "language_info": {
      "name": "python"
    }
  },
  "cells": [
    {
      "cell_type": "markdown",
      "metadata": {
        "id": "68ZUgnpitFQE"
      },
      "source": [
        "# Blackjack\n"
      ]
    },
    {
      "cell_type": "code",
      "metadata": {
        "colab": {
          "base_uri": "https://localhost:8080/"
        },
        "id": "_6-wnx7k9V2_",
        "outputId": "ec82a668-8423-412a-d79d-f925c68bd1ad"
      },
      "source": [
        "import random\n",
        "def card():\n",
        "  cards = [11, 2, 3, 4, 5, 6, 7, 8, 9, 10, 10, 10, 10]\n",
        "  card=random.choice(cards)\n",
        "  return card\n",
        "\n",
        "user_cards = []\n",
        "\n",
        "dealer_cards = []\n",
        "#dealer cards\n",
        "while len(dealer_cards)!=2:\n",
        "  dealer_cards.append(card())\n",
        "  if len(dealer_cards)==2:\n",
        "    print(\"Dealer has X &\", dealer_cards[1])\n",
        "#player cards\n",
        "while len(user_cards)!=2:\n",
        "  user_cards.append(card())\n",
        "  if len(user_cards)==2:\n",
        "    print(\"You have\", user_cards)\n",
        "\n",
        "#sum of dealer cards\n",
        "if sum(dealer_cards)==21:\n",
        "  print(\"Dealer has 21 and Wins!\")    #sum() function is used to sum all the contents in list\n",
        "elif sum(dealer_cards)>21:\n",
        "  print(\"Dealer Losses\")\n",
        "\n",
        "#sum of user cards\n",
        "while sum(user_cards)<21:\n",
        "  action=str(input(\"Do you want to stay or hit? \"))\n",
        "  if action==\"hit\":\n",
        "    user_cards.append(card())\n",
        "    print(\"Now you have a total of \", sum(user_cards),\"from these cards\", user_cards)\n",
        "  else:\n",
        "    print(\"The Dealer has a total of \",sum(dealer_cards), \"with\", dealer_cards)\n",
        "    print(\"You have total of \",sum(user_cards),\"with\",user_cards)\n",
        "    if sum(dealer_cards) > sum(user_cards):\n",
        "      print(\"Dealer Wins!\")\n",
        "    else:\n",
        "      print(\"User Wins!\")\n",
        "      break\n",
        "if sum(user_cards)>21:\n",
        "  print(\"You Busted! dealer wins.\", sum(dealer_cards),\"with\", dealer_cards)\n",
        "elif sum(user_cards)==21:\n",
        "  print(\"You have BLACKJACK You Win!! 21\")"
      ],
      "execution_count": 1,
      "outputs": [
        {
          "output_type": "stream",
          "name": "stdout",
          "text": [
            "Dealer has X & 11\n",
            "You have [5, 10]\n",
            "Do you want to stay or hit? hit\n",
            "Now you have a total of  22 from these cards [5, 10, 7]\n",
            "You Busted! dealer wins. 18 with [7, 11]\n"
          ]
        }
      ]
    }
  ]
}
